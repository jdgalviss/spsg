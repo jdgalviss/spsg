{
 "cells": [
  {
   "cell_type": "code",
   "execution_count": 2,
   "id": "ff7ad9ca-4cf5-4f23-8ebd-7c2641bd1c2b",
   "metadata": {},
   "outputs": [],
   "source": [
    "from __future__ import division\n",
    "from __future__ import print_function\n",
    "\n",
    "import argparse\n",
    "import os, sys, time\n",
    "import shutil\n",
    "import random\n",
    "import torch\n",
    "import numpy as np\n",
    "import gc\n",
    "import torchvision.models\n",
    "\n",
    "import data_util\n",
    "import scene_dataloader\n",
    "import model as model_util\n",
    "import loss as loss_util\n",
    "import style\n",
    "\n",
    "from utils.raycast_rgbd.raycast_rgbd import RaycastRGBD\n",
    "from utils.raycast_rgbd.raycast_rgbd import RaycastOcc\n",
    "from utils.depth_utils.depth_utils import Depth2Normals\n",
    "import utils.color_utils_cpu.color_utils as color_utils\n",
    "\n",
    "COLOR_MEAN = [0.485, 0.456, 0.406] # for vgg19\n",
    "COLOR_STD = [0.229, 0.224, 0.225]\n",
    "\n",
    "GAN_TYPES = ['hinge', 'vanilla', 'wgan', 'wgan_gp']\n",
    "COLOR_SPACES = ['rgb', 'lab']\n",
    "\n",
    "\n",
    "%load_ext autoreload\n",
    "%autoreload 2"
   ]
  },
  {
   "cell_type": "code",
   "execution_count": null,
   "id": "a2b6c9bb-56c1-4c69-bc06-324e13595810",
   "metadata": {},
   "outputs": [],
   "source": [
    "# specify gpu\n",
    "os.environ['CUDA_VISIBLE_DEVICES']=str(args.gpu)\n",
    "torch.backends.cudnn.benchmark = True\n",
    "\n",
    "# style part\n",
    "model_style = None\n",
    "raycaster_rgbd = None\n",
    "gan_loss = None"
   ]
  },
  {
   "cell_type": "code",
   "execution_count": null,
   "id": "36c36089-6a93-4b1b-ba73-7ed39d0654e5",
   "metadata": {},
   "outputs": [],
   "source": [
    "truncation = 3\n",
    "\n",
    "model_style = torchvision.models.vgg19(pretrained=True).cuda().eval()\n",
    "model_style = style.Model(model_style, COLOR_MEAN, COLOR_STD)\n",
    "ray_increment = 0.3 * args.truncation\n",
    "thresh_sample_dist = 50.5 * ray_increment\n",
    "max_num_locs_per_sample = 640000\n",
    "raycast_depth_max = 6.0\n",
    "raycaster_rgbd = RaycastRGBD(args.batch_size, args.input_dim, args.style_width, args.style_height, depth_min=0.1/args.voxelsize, depth_max=raycast_depth_max/args.voxelsize, thresh_sample_dist=thresh_sample_dist, ray_increment=ray_increment, max_num_locs_per_sample=max_num_locs_per_sample)\n",
    "depth2normals = Depth2Normals(args.batch_size, args.style_width, args.style_height, depth_min=0.1/args.voxelsize, depth_max=raycast_depth_max/args.voxelsize, max_num_fill_iters=args.max_depth_fill_iters)\n",
    "    "
   ]
  }
 ],
 "metadata": {
  "kernelspec": {
   "display_name": "Python 3 (ipykernel)",
   "language": "python",
   "name": "python3"
  },
  "language_info": {
   "codemirror_mode": {
    "name": "ipython",
    "version": 3
   },
   "file_extension": ".py",
   "mimetype": "text/x-python",
   "name": "python",
   "nbconvert_exporter": "python",
   "pygments_lexer": "ipython3",
   "version": "3.8.10"
  }
 },
 "nbformat": 4,
 "nbformat_minor": 5
}
